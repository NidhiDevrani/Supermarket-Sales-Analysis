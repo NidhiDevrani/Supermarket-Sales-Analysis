{
 "cells": [
  {
   "cell_type": "markdown",
   "metadata": {},
   "source": [
    "# 🧾 Supermarket Sales Analysis (Using Pandas Only)\n",
    "Analyze supermarket sales data using **only Pandas** to uncover insights about revenue, customers, and products."
   ]
  },
  {
   "cell_type": "markdown",
   "metadata": {},
   "source": [
    "## Step 1: Import Libraries"
   ]
  },
  {
   "cell_type": "code",
   "execution_count": null,
   "metadata": {},
   "outputs": [],
   "source": [
    "import pandas as pd\n",
    "# Load the dataset\n",
    "df = pd.read_csv('SuperMarket Analysis.csv')\n",
    "df.head()"
   ]
  },
  {
   "cell_type": "markdown",
   "metadata": {},
   "source": [
    "## Step 2: Explore Dataset"
   ]
  },
  {
   "cell_type": "code",
   "execution_count": null,
   "metadata": {},
   "outputs": [],
   "source": [
    "df.info()\n",
    "df.isnull().sum()\n",
    "df.describe()"
   ]
  },
  {
   "cell_type": "markdown",
   "metadata": {},
   "source": [
    "## Step 3: Data Cleaning"
   ]
  },
  {
   "cell_type": "code",
   "execution_count": null,
   "metadata": {},
   "outputs": [],
   "source": [
    "# Convert Date and Time columns\n",
    "df['Date'] = pd.to_datetime(df['Date'])\n",
    "df['Month'] = df['Date'].dt.month_name()\n",
    "df['Hour'] = pd.to_datetime(df['Time'], format='%H:%M').dt.hour\n",
    "df.head()"
   ]
  },
  {
   "cell_type": "markdown",
   "metadata": {},
   "source": [
    "## Step 4: Total Revenue and Average Invoice"
   ]
  },
  {
   "cell_type": "code",
   "execution_count": null,
   "metadata": {},
   "outputs": [],
   "source": [
    "total_revenue = df['Total'].sum()\n",
    "total_transactions = df.shape[0]\n",
    "avg_invoice = df['Total'].mean()\n",
    "print('Total Revenue:', total_revenue)\n",
    "print('Total Transactions:', total_transactions)\n",
    "print('Average Invoice:', avg_invoice)"
   ]
  },
  {
   "cell_type": "markdown",
   "metadata": {},
   "source": [
    "## Step 5: Sales by City and Branch"
   ]
  },
  {
   "cell_type": "code",
   "execution_count": null,
   "metadata": {},
   "outputs": [],
   "source": [
    "city_sales = df.groupby('City')['Total'].sum().sort_values(ascending=False)\n",
    "branch_sales = df.groupby('Branch')['Total'].sum().sort_values(ascending=False)\n",
    "print(city_sales)\n",
    "print(branch_sales)"
   ]
  },
  {
   "cell_type": "markdown",
   "metadata": {},
   "source": [
    "## Step 6: Top Product Lines"
   ]
  },
  {
   "cell_type": "code",
   "execution_count": null,
   "metadata": {},
   "outputs": [],
   "source": [
    "product_sales = df.groupby('Product line')['Total'].sum().sort_values(ascending=False)\n",
    "avg_product_rating = df.groupby('Product line')['Rating'].mean().sort_values(ascending=False)\n",
    "print(product_sales)\n",
    "print(avg_product_rating)"
   ]
  },
  {
   "cell_type": "markdown",
   "metadata": {},
   "source": [
    "## Step 7: Customer Analysis"
   ]
  },
  {
   "cell_type": "code",
   "execution_count": null,
   "metadata": {},
   "outputs": [],
   "source": [
    "customer_sales = df.groupby('Customer type')['Total'].agg(['sum','mean','count']).sort_values('sum', ascending=False)\n",
    "gender_sales = df.groupby('Gender')['Total'].sum().sort_values(ascending=False)\n",
    "print(customer_sales)\n",
    "print(gender_sales)"
   ]
  },
  {
   "cell_type": "markdown",
   "metadata": {},
   "source": [
    "## Step 8: Time-Based Analysis"
   ]
  },
  {
   "cell_type": "code",
   "execution_count": null,
   "metadata": {},
   "outputs": [],
   "source": [
    "monthly_sales = df.groupby('Month')['Total'].sum().sort_values(ascending=False)\n",
    "hourly_sales = df.groupby('Hour')['Total'].sum().sort_values(ascending=False)\n",
    "print(monthly_sales)\n",
    "print(hourly_sales)"
   ]
  },
  {
   "cell_type": "markdown",
   "metadata": {},
   "source": [
    "## Step 9: Payment Analysis"
   ]
  },
  {
   "cell_type": "code",
   "execution_count": null,
   "metadata": {},
   "outputs": [],
   "source": [
    "payment_sales = df.groupby('Payment')['Total'].sum().sort_values(ascending=False)\n",
    "print(payment_sales)"
   ]
  },
  {
   "cell_type": "markdown",
   "metadata": {},
   "source": [
    "## Step 10: Profit Margin"
   ]
  },
  {
   "cell_type": "code",
   "execution_count": null,
   "metadata": {},
   "outputs": [],
   "source": [
    "df['Profit Margin (%)'] = (df['gross income']/df['Total'])*100\n",
    "avg_margin = df['Profit Margin (%)'].mean()\n",
    "print(df[['Branch','Profit Margin (%)']].groupby('Branch').mean())\n",
    "print('Average Profit Margin:', avg_margin)"
   ]
  },
  {
   "cell_type": "markdown",
   "metadata": {},
   "source": [
    "## Step 11: Export Cleaned Data"
   ]
  },
  {
   "cell_type": "code",
   "execution_count": null,
   "metadata": {},
   "outputs": [],
   "source": [
    "df.to_csv('cleaned_supermarket_sales.csv', index=False)\n",
    "print('Cleaned data saved successfully!')"
   ]
  }
 ],
 "metadata": {
  "kernelspec": {
   "display_name": "Python 3",
   "language": "python",
   "name": "python3"
  },
  "language_info": {
   "name": "python",
   "version": "3.10"
  }
 },
 "nbformat": 4,
 "nbformat_minor": 5
}
